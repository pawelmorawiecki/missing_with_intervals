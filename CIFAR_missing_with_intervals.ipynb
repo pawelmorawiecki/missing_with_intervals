{
 "cells": [
  {
   "cell_type": "code",
   "execution_count": 1,
   "metadata": {},
   "outputs": [],
   "source": [
    "import torch\n",
    "import torch.nn as nn\n",
    "import torch.optim as optim\n",
    "from torchvision import datasets, transforms\n",
    "from torch.utils.data import TensorDataset, DataLoader\n",
    "import torch.utils.data as data_utils\n",
    "import numpy as np\n",
    "from random import randint\n",
    "from sklearn.impute import SimpleImputer  # used to input missing values"
   ]
  },
  {
   "cell_type": "markdown",
   "metadata": {},
   "source": [
    "# Constants"
   ]
  },
  {
   "cell_type": "code",
   "execution_count": 2,
   "metadata": {},
   "outputs": [
    {
     "data": {
      "text/plain": [
       "<torch._C.Generator at 0x7fe374648bd0>"
      ]
     },
     "execution_count": 2,
     "metadata": {},
     "output_type": "execute_result"
    }
   ],
   "source": [
    "BATCH_SIZE = 50\n",
    "MISSING_SQUARE = 13 #size of missing square\n",
    "IMAGE_SHAPE = (32,32)\n",
    "device = torch.device(\"cuda:0\" if torch.cuda.is_available() else \"cpu\")\n",
    "torch.manual_seed(0)"
   ]
  },
  {
   "cell_type": "markdown",
   "metadata": {},
   "source": [
    "# Load data and create dataloaders"
   ]
  },
  {
   "cell_type": "code",
   "execution_count": 3,
   "metadata": {},
   "outputs": [],
   "source": [
    "data_after_imputation =  np.load(\"./data/CIFAR_data_imputation.npy\")\n",
    "labels = np.load(\"./data/CIFAR_labels.npy\")\n",
    "mask = np.load(\"./data/CIFAR_mask.npy\")\n",
    "\n",
    "data_after_imputation = np.moveaxis(data_after_imputation, -1, 1)\n",
    "mask = np.moveaxis(mask, -1, 1)"
   ]
  },
  {
   "cell_type": "code",
   "execution_count": 4,
   "metadata": {},
   "outputs": [],
   "source": [
    "# create dataloaders\n",
    "dataset = TensorDataset(torch.from_numpy(data_after_imputation), torch.from_numpy(mask), torch.from_numpy(labels))\n",
    "train_dataloader = DataLoader(dataset, batch_size=BATCH_SIZE, shuffle=True)"
   ]
  },
  {
   "cell_type": "markdown",
   "metadata": {},
   "source": [
    "# Utils and helper functions"
   ]
  },
  {
   "cell_type": "code",
   "execution_count": 5,
   "metadata": {},
   "outputs": [],
   "source": [
    "class Flatten(nn.Module):\n",
    "    def forward(self, x):\n",
    "        return x.view(x.shape[0], -1) "
   ]
  },
  {
   "cell_type": "code",
   "execution_count": 6,
   "metadata": {},
   "outputs": [],
   "source": [
    "def bound_propagation(model, initial_bound):\n",
    "    l, u = initial_bound\n",
    "    bounds = []\n",
    "    bounds.append(initial_bound)\n",
    "    list_of_layers = list(model.children())\n",
    "    \n",
    "    for i in range(len(list_of_layers)-1): #all layers except the last one\n",
    "        layer = list_of_layers[i]\n",
    "        \n",
    "        if isinstance(layer, Flatten):\n",
    "            l_ = Flatten()(l)\n",
    "            u_ = Flatten()(u)\n",
    "\n",
    "        elif isinstance(layer, nn.Linear):\n",
    "            l_ = (layer.weight.clamp(min=0) @ l.t() + layer.weight.clamp(max=0) @ u.t() \n",
    "                  + layer.bias[:,None]).t()\n",
    "            u_ = (layer.weight.clamp(min=0) @ u.t() + layer.weight.clamp(max=0) @ l.t() \n",
    "                  + layer.bias[:,None]).t()\n",
    "            \n",
    "        elif isinstance(layer, nn.Conv2d):\n",
    "            l_ = (nn.functional.conv2d(l, layer.weight.clamp(min=0), bias=None, \n",
    "                                       stride=layer.stride, padding=layer.padding,\n",
    "                                       dilation=layer.dilation, groups=layer.groups) +\n",
    "                  nn.functional.conv2d(u, layer.weight.clamp(max=0), bias=None, \n",
    "                                       stride=layer.stride, padding=layer.padding,\n",
    "                                       dilation=layer.dilation, groups=layer.groups) +\n",
    "                  layer.bias[None,:,None,None])\n",
    "            \n",
    "            u_ = (nn.functional.conv2d(u, layer.weight.clamp(min=0), bias=None, \n",
    "                                       stride=layer.stride, padding=layer.padding,\n",
    "                                       dilation=layer.dilation, groups=layer.groups) +\n",
    "                  nn.functional.conv2d(l, layer.weight.clamp(max=0), bias=None, \n",
    "                                       stride=layer.stride, padding=layer.padding,\n",
    "                                       dilation=layer.dilation, groups=layer.groups) + \n",
    "                  layer.bias[None,:,None,None])\n",
    "            \n",
    "        elif isinstance(layer, nn.ReLU):\n",
    "            l_ = l.clamp(min=0)\n",
    "            u_ = u.clamp(min=0)\n",
    "            \n",
    "        bounds.append((l_, u_))\n",
    "        l,u = l_, u_\n",
    "    return bounds"
   ]
  },
  {
   "cell_type": "code",
   "execution_count": 7,
   "metadata": {},
   "outputs": [],
   "source": [
    "def epoch_with_intervals(loader, model, epsilon_schedule, device, batch_counter, opt=None):\n",
    "\n",
    "    total_loss, total_err = 0.,0.\n",
    "    for X, mask, y in loader:\n",
    "        X, mask, y = X.float().to(device), mask.float().to(device), y.long().to(device)\n",
    "\n",
    "        mask = mask * epsilon_schedule[batch_counter]\n",
    "     \n",
    "        lower_bound = X - mask\n",
    "        lower_bound = torch.clamp(lower_bound, min=0.0, max=1.0)\n",
    "        upper_bound = X + mask\n",
    "        upper_bound = torch.clamp(upper_bound, min=0.0, max=1.0)\n",
    "        \n",
    "        bounds = bound_propagation(model, (lower_bound,upper_bound))\n",
    "        bounds_concatenated = torch.cat((bounds[-1][0],bounds[-1][1]), dim=1)\n",
    "        \n",
    "        predictions = model.intervals_combined(bounds_concatenated)\n",
    "        loss = nn.CrossEntropyLoss()(predictions,y)\n",
    "        batch_counter +=1 \n",
    "        \n",
    "        if opt:\n",
    "            opt.zero_grad()\n",
    "            loss.backward()\n",
    "            opt.step()\n",
    "        \n",
    "        total_err += (predictions.max(dim=1)[1] != y).sum().item()\n",
    "        total_loss += loss.item() * X.shape[0]\n",
    "    return total_err / len(loader.dataset), total_loss / len(loader.dataset)"
   ]
  },
  {
   "cell_type": "markdown",
   "metadata": {},
   "source": [
    "# Model"
   ]
  },
  {
   "cell_type": "code",
   "execution_count": 9,
   "metadata": {},
   "outputs": [],
   "source": [
    "class CNN_small(torch.nn.Module):\n",
    "    def __init__(self):\n",
    "\n",
    "        super(CNN_small, self).__init__()\n",
    "        \n",
    "        self.conv1 = nn.Conv2d(3, 16, 4, padding=0, stride=2)\n",
    "        self.relu1 = nn.ReLU()\n",
    "        self.conv2 = nn.Conv2d(16, 32, 4, padding=0, stride=1)\n",
    "        self.relu2 = nn.ReLU()\n",
    "        self.flat = Flatten()\n",
    "        self.linear1 = nn.Linear(32*12*12, 100)\n",
    "        self.relu3 = nn.ReLU()        \n",
    "        self.last_linear = nn.Linear(100, 10)                 \n",
    "        \n",
    "        self.intervals_combined = nn.Linear(10+10, 10) #layer for combining upper and lower bounds of intervals\n",
    "        \n",
    "    def forward(self, x):\n",
    "                \n",
    "        x = self.conv1(x)\n",
    "        x = self.relu1(x)\n",
    "\n",
    "        \n",
    "        x = self.conv2(x)\n",
    "        x = self.relu2(x)\n",
    "\n",
    "        \n",
    "        x = self.flat(x)\n",
    "        x = self.linear1(x)\n",
    "        x = self.relu3(x)\n",
    "        \n",
    "        out = self.last_linear(x)\n",
    "\n",
    "        \n",
    "        return out"
   ]
  },
  {
   "cell_type": "markdown",
   "metadata": {},
   "source": [
    "# Training"
   ]
  },
  {
   "cell_type": "code",
   "execution_count": 10,
   "metadata": {},
   "outputs": [
    {
     "name": "stdout",
     "output_type": "stream",
     "text": [
      "0.78518\n",
      "2.0531563781499864\n",
      "0.66886\n",
      "1.7493666653633118\n",
      "0.63234\n",
      "1.645715145111084\n",
      "0.60922\n",
      "1.5918897956609726\n",
      "0.59218\n",
      "1.5456767443418502\n",
      "0.57022\n",
      "1.5005333334207536\n",
      "0.55616\n",
      "1.4697742627859116\n",
      "0.54676\n",
      "1.443427851319313\n",
      "0.5372\n",
      "1.4212929121255875\n",
      "0.52822\n",
      "1.3953932139277458\n",
      "0.51486\n",
      "1.373357141852379\n",
      "0.5095\n",
      "1.3561311148405075\n",
      "0.50344\n",
      "1.3442041190862655\n",
      "0.49692\n",
      "1.3226459718346595\n",
      "0.49316\n",
      "1.3142056515216827\n",
      "0.48742\n",
      "1.3000977527499198\n",
      "0.48102\n",
      "1.2865438426733018\n",
      "0.4792\n",
      "1.2749775682687758\n",
      "0.47356\n",
      "1.2662631445527077\n",
      "0.46994\n",
      "1.2553103709816933\n"
     ]
    }
   ],
   "source": [
    "epsilon_schedule = [8/255]*100000\n",
    "batch_counter = 0\n",
    "\n",
    "model = CNN_small().to(device)\n",
    "opt = optim.Adam(model.parameters(), lr=1e-3)\n",
    "\n",
    "for t in range(20):\n",
    "    \n",
    "    train_err, loss = epoch_with_intervals(train_dataloader, model, epsilon_schedule, device, batch_counter, opt)  \n",
    "    batch_counter += 1000\n",
    "    print (train_err)\n",
    "    print (loss)"
   ]
  },
  {
   "cell_type": "markdown",
   "metadata": {},
   "source": [
    "# Testing"
   ]
  },
  {
   "cell_type": "code",
   "execution_count": 11,
   "metadata": {},
   "outputs": [],
   "source": [
    "test_data_after_imputation =  np.load(\"./data/CIFAR_test_data_imputation.npy\")\n",
    "test_labels = np.load(\"./data/CIFAR_test_labels.npy\")\n",
    "test_mask = np.load(\"./data/CIFAR_test_mask.npy\")\n",
    "\n",
    "test_data_after_imputation = np.moveaxis(test_data_after_imputation, -1, 1)\n",
    "test_mask = np.moveaxis(test_mask, -1, 1)"
   ]
  },
  {
   "cell_type": "code",
   "execution_count": 12,
   "metadata": {},
   "outputs": [],
   "source": [
    "test_dataset = TensorDataset(torch.from_numpy(test_data_after_imputation), torch.from_numpy(test_mask), torch.from_numpy(test_labels))\n",
    "test_dataloader = DataLoader(test_dataset, batch_size=BATCH_SIZE, shuffle=False)"
   ]
  },
  {
   "cell_type": "code",
   "execution_count": 13,
   "metadata": {},
   "outputs": [
    {
     "name": "stdout",
     "output_type": "stream",
     "text": [
      "0.5125\n"
     ]
    }
   ],
   "source": [
    "epsilon_schedule = [8/255]*10000\n",
    "batch_counter = 0\n",
    "test_err, loss = epoch_with_intervals(test_dataloader, model, epsilon_schedule, device, batch_counter)  \n",
    "\n",
    "print (test_err)"
   ]
  }
 ],
 "metadata": {
  "kernelspec": {
   "display_name": "Python 3",
   "language": "python",
   "name": "python3"
  },
  "language_info": {
   "codemirror_mode": {
    "name": "ipython",
    "version": 3
   },
   "file_extension": ".py",
   "mimetype": "text/x-python",
   "name": "python",
   "nbconvert_exporter": "python",
   "pygments_lexer": "ipython3",
   "version": "3.7.3"
  }
 },
 "nbformat": 4,
 "nbformat_minor": 2
}
