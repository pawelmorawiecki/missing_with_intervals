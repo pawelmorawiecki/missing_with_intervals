{
 "cells": [
  {
   "cell_type": "code",
   "execution_count": 1,
   "metadata": {},
   "outputs": [],
   "source": [
    "import torch\n",
    "import torch.nn as nn\n",
    "import torch.optim as optim\n",
    "from torchvision import datasets, transforms\n",
    "from torch.utils.data import TensorDataset, DataLoader\n",
    "import torch.utils.data as data_utils\n",
    "import numpy as np\n",
    "from random import randint\n",
    "from sklearn.impute import SimpleImputer  # used to input missing values"
   ]
  },
  {
   "cell_type": "markdown",
   "metadata": {},
   "source": [
    "# Constants"
   ]
  },
  {
   "cell_type": "code",
   "execution_count": 2,
   "metadata": {},
   "outputs": [
    {
     "data": {
      "text/plain": [
       "<torch._C.Generator at 0x7f6f3ca9abd0>"
      ]
     },
     "execution_count": 2,
     "metadata": {},
     "output_type": "execute_result"
    }
   ],
   "source": [
    "BATCH_SIZE = 100\n",
    "MISSING_SQUARE = 13 #size of missing square\n",
    "IMAGE_SHAPE = (28,28)\n",
    "device = torch.device(\"cuda:0\" if torch.cuda.is_available() else \"cpu\")\n",
    "torch.manual_seed(0)"
   ]
  },
  {
   "cell_type": "markdown",
   "metadata": {},
   "source": [
    "# Load data and create dataloaders"
   ]
  },
  {
   "cell_type": "code",
   "execution_count": 3,
   "metadata": {},
   "outputs": [],
   "source": [
    "data_after_imputation =  np.load(\"./data/MNIST_data_imputation.npy\")\n",
    "labels = np.load(\"./data/MNIST_labels.npy\")\n",
    "mask = np.load(\"./data/MNIST_mask.npy\")"
   ]
  },
  {
   "cell_type": "code",
   "execution_count": 4,
   "metadata": {},
   "outputs": [],
   "source": [
    "# create dataloaders\n",
    "dataset = TensorDataset(torch.from_numpy(data_after_imputation), torch.from_numpy(mask), torch.from_numpy(labels))\n",
    "train_dataloader = DataLoader(dataset, batch_size=BATCH_SIZE, shuffle=True)"
   ]
  },
  {
   "cell_type": "markdown",
   "metadata": {},
   "source": [
    "# Utils and helper functions"
   ]
  },
  {
   "cell_type": "code",
   "execution_count": 5,
   "metadata": {},
   "outputs": [],
   "source": [
    "class Flatten(nn.Module):\n",
    "    def forward(self, x):\n",
    "        return x.view(x.shape[0], -1) "
   ]
  },
  {
   "cell_type": "code",
   "execution_count": 6,
   "metadata": {},
   "outputs": [],
   "source": [
    "def bound_propagation(model, initial_bound):\n",
    "    l, u = initial_bound\n",
    "    bounds = []\n",
    "    bounds.append(initial_bound)\n",
    "    list_of_layers = list(model.children())\n",
    "    \n",
    "    for i in range(len(list_of_layers)-1): #all layers except the last one\n",
    "        layer = list_of_layers[i]\n",
    "        \n",
    "        if isinstance(layer, Flatten):\n",
    "            l_ = Flatten()(l)\n",
    "            u_ = Flatten()(u)\n",
    "\n",
    "        elif isinstance(layer, nn.Linear):\n",
    "            l_ = (layer.weight.clamp(min=0) @ l.t() + layer.weight.clamp(max=0) @ u.t() \n",
    "                  + layer.bias[:,None]).t()\n",
    "            u_ = (layer.weight.clamp(min=0) @ u.t() + layer.weight.clamp(max=0) @ l.t() \n",
    "                  + layer.bias[:,None]).t()\n",
    "            \n",
    "        elif isinstance(layer, nn.Conv2d):\n",
    "            l_ = (nn.functional.conv2d(l, layer.weight.clamp(min=0), bias=None, \n",
    "                                       stride=layer.stride, padding=layer.padding,\n",
    "                                       dilation=layer.dilation, groups=layer.groups) +\n",
    "                  nn.functional.conv2d(u, layer.weight.clamp(max=0), bias=None, \n",
    "                                       stride=layer.stride, padding=layer.padding,\n",
    "                                       dilation=layer.dilation, groups=layer.groups) +\n",
    "                  layer.bias[None,:,None,None])\n",
    "            \n",
    "            u_ = (nn.functional.conv2d(u, layer.weight.clamp(min=0), bias=None, \n",
    "                                       stride=layer.stride, padding=layer.padding,\n",
    "                                       dilation=layer.dilation, groups=layer.groups) +\n",
    "                  nn.functional.conv2d(l, layer.weight.clamp(max=0), bias=None, \n",
    "                                       stride=layer.stride, padding=layer.padding,\n",
    "                                       dilation=layer.dilation, groups=layer.groups) + \n",
    "                  layer.bias[None,:,None,None])\n",
    "            \n",
    "        elif isinstance(layer, nn.ReLU):\n",
    "            l_ = l.clamp(min=0)\n",
    "            u_ = u.clamp(min=0)\n",
    "            \n",
    "        bounds.append((l_, u_))\n",
    "        l,u = l_, u_\n",
    "    return bounds"
   ]
  },
  {
   "cell_type": "code",
   "execution_count": 7,
   "metadata": {},
   "outputs": [],
   "source": [
    "def epoch_with_intervals(loader, model, epsilon_schedule, device, batch_counter, opt=None):\n",
    "\n",
    "    total_loss, total_err = 0.,0.\n",
    "    for X, mask, y in loader:\n",
    "        X, mask, y = X.float().to(device), mask.float().to(device), y.long().to(device)\n",
    "\n",
    "        mask = mask * epsilon_schedule[batch_counter]\n",
    "     \n",
    "        lower_bound = X - mask\n",
    "        lower_bound = torch.clamp(lower_bound, min=0.0, max=1.0)\n",
    "        upper_bound = X + mask\n",
    "        upper_bound = torch.clamp(upper_bound, min=0.0, max=1.0)\n",
    "        \n",
    "        bounds = bound_propagation(model, (lower_bound,upper_bound))\n",
    "        bounds_concatenated = torch.cat((bounds[-1][0],bounds[-1][1]), dim=1)\n",
    "        \n",
    "        predictions = model.intervals_combined(bounds_concatenated)\n",
    "        loss = nn.CrossEntropyLoss()(predictions,y)\n",
    "        batch_counter +=1 \n",
    "        \n",
    "        if opt:\n",
    "            opt.zero_grad()\n",
    "            loss.backward()\n",
    "            opt.step()\n",
    "        \n",
    "        total_err += (predictions.max(dim=1)[1] != y).sum().item()\n",
    "        total_loss += loss.item() * X.shape[0]\n",
    "    return total_err / len(loader.dataset), total_loss / len(loader.dataset)"
   ]
  },
  {
   "cell_type": "code",
   "execution_count": 8,
   "metadata": {},
   "outputs": [],
   "source": [
    "def generate_epsilon_schedule_MNIST(epsilon_train):\n",
    "    \n",
    "    epsilon_schedule = []\n",
    "    step = epsilon_train/10000\n",
    "            \n",
    "    for i in range(10000):\n",
    "        epsilon_schedule.append(i*step) #ramp-up phase\n",
    "    \n",
    "    for i in range(50000):\n",
    "        epsilon_schedule.append(epsilon_train)\n",
    "        \n",
    "    return epsilon_schedule"
   ]
  },
  {
   "cell_type": "markdown",
   "metadata": {},
   "source": [
    "# Model"
   ]
  },
  {
   "cell_type": "code",
   "execution_count": 9,
   "metadata": {},
   "outputs": [],
   "source": [
    "class CNN_small(torch.nn.Module):\n",
    "    def __init__(self):\n",
    "\n",
    "        super(CNN_small, self).__init__()\n",
    "        \n",
    "        self.conv1 = nn.Conv2d(1, 16, 4, padding=0, stride=2)\n",
    "        self.relu1 = nn.ReLU()\n",
    "        self.conv2 = nn.Conv2d(16, 32, 4, padding=0, stride=1)\n",
    "        self.relu2 = nn.ReLU()\n",
    "        self.flat = Flatten()\n",
    "        self.linear1 = nn.Linear(32*10*10, 100)\n",
    "        self.relu3 = nn.ReLU()        \n",
    "        self.last_linear = nn.Linear(100, 10)                 \n",
    "        \n",
    "        self.intervals_combined = nn.Linear(10+10, 10) #layer for combining upper and lower bounds of intervals\n",
    "        \n",
    "    def forward(self, x):\n",
    "                \n",
    "        x = self.conv1(x)\n",
    "        x = self.relu1(x)\n",
    "\n",
    "        \n",
    "        x = self.conv2(x)\n",
    "        x = self.relu2(x)\n",
    "\n",
    "        \n",
    "        x = self.flat(x)\n",
    "        x = self.linear1(x)\n",
    "        x = self.relu3(x)\n",
    "        \n",
    "        out = self.last_linear(x)\n",
    "\n",
    "        \n",
    "        return out"
   ]
  },
  {
   "cell_type": "markdown",
   "metadata": {},
   "source": [
    "# Training"
   ]
  },
  {
   "cell_type": "code",
   "execution_count": 10,
   "metadata": {},
   "outputs": [
    {
     "name": "stdout",
     "output_type": "stream",
     "text": [
      "0.2056\n",
      "0.635987416903178\n",
      "0.10241666666666667\n",
      "0.30714157688121\n",
      "0.08556666666666667\n",
      "0.2541016906748215\n",
      "0.07623333333333333\n",
      "0.22268366693208616\n",
      "0.0694\n",
      "0.2030802104063332\n",
      "0.0648\n",
      "0.18687705857058365\n",
      "0.05976666666666667\n",
      "0.1714403611732026\n",
      "0.05586666666666667\n",
      "0.15989502164224784\n",
      "0.05335\n",
      "0.1505830330774188\n",
      "0.049883333333333335\n",
      "0.13918364140825967\n",
      "0.047516666666666665\n",
      "0.1328047810215503\n",
      "0.04438333333333333\n",
      "0.12284485846447447\n",
      "0.041433333333333336\n",
      "0.11607960573087137\n",
      "0.0385\n",
      "0.10768518236155311\n",
      "0.03605\n",
      "0.10069064659066498\n",
      "0.03481666666666667\n",
      "0.09657419217129548\n",
      "0.0327\n",
      "0.09121930407360196\n",
      "0.029716666666666666\n",
      "0.08349764007764558\n",
      "0.027566666666666666\n",
      "0.07460733168758452\n",
      "0.024633333333333333\n",
      "0.06894644362696757\n"
     ]
    }
   ],
   "source": [
    "EPSILON = 0.2\n",
    "epsilon_schedule = generate_epsilon_schedule_MNIST(EPSILON)\n",
    "batch_counter = 0\n",
    "\n",
    "model = CNN_small().to(device)\n",
    "opt = optim.Adam(model.parameters(), lr=1e-3)\n",
    "\n",
    "for t in range(20):\n",
    "    \n",
    "    train_err, loss = epoch_with_intervals(train_dataloader, model, epsilon_schedule, device, batch_counter, opt)  \n",
    "    batch_counter += 600\n",
    "    print (train_err)\n",
    "    print (loss)"
   ]
  },
  {
   "cell_type": "markdown",
   "metadata": {},
   "source": [
    "# Testing"
   ]
  },
  {
   "cell_type": "code",
   "execution_count": 11,
   "metadata": {},
   "outputs": [],
   "source": [
    "test_data_after_imputation =  np.load(\"./data/MNIST_test_data_imputation.npy\")\n",
    "test_labels = np.load(\"./data/MNIST_test_labels.npy\")\n",
    "test_mask = np.load(\"./data/MNIST_test_mask.npy\")"
   ]
  },
  {
   "cell_type": "code",
   "execution_count": 12,
   "metadata": {},
   "outputs": [],
   "source": [
    "test_dataset = TensorDataset(torch.from_numpy(test_data_after_imputation), torch.from_numpy(test_mask), torch.from_numpy(test_labels))\n",
    "test_dataloader = DataLoader(test_dataset, batch_size=BATCH_SIZE, shuffle=False)"
   ]
  },
  {
   "cell_type": "code",
   "execution_count": 13,
   "metadata": {},
   "outputs": [
    {
     "name": "stdout",
     "output_type": "stream",
     "text": [
      "0.0804\n"
     ]
    }
   ],
   "source": [
    "epsilon_schedule = [0.2]*1000\n",
    "batch_counter = 0\n",
    "test_err, loss = epoch_with_intervals(test_dataloader, model, epsilon_schedule, device, batch_counter)  \n",
    "\n",
    "print (test_err)"
   ]
  }
 ],
 "metadata": {
  "kernelspec": {
   "display_name": "Python 3",
   "language": "python",
   "name": "python3"
  },
  "language_info": {
   "codemirror_mode": {
    "name": "ipython",
    "version": 3
   },
   "file_extension": ".py",
   "mimetype": "text/x-python",
   "name": "python",
   "nbconvert_exporter": "python",
   "pygments_lexer": "ipython3",
   "version": "3.7.3"
  }
 },
 "nbformat": 4,
 "nbformat_minor": 2
}
